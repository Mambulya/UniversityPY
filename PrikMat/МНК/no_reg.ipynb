{
 "cells": [
  {
   "cell_type": "code",
   "execution_count": 190,
   "id": "d125537a",
   "metadata": {},
   "outputs": [],
   "source": [
    "import pandas as pd\n",
    "import matplotlib.pyplot as plt\n",
    "from matplotlib.lines import Line2D\n",
    "import numpy as np"
   ]
  },
  {
   "cell_type": "markdown",
   "id": "d3fbb063",
   "metadata": {},
   "source": [
    "## Подготовка данных"
   ]
  },
  {
   "cell_type": "code",
   "execution_count": 191,
   "id": "faf1007d",
   "metadata": {},
   "outputs": [],
   "source": [
    "data_base_path = \"SOCR-HeightWeight.csv\""
   ]
  },
  {
   "cell_type": "code",
   "execution_count": 192,
   "id": "6f7ce026",
   "metadata": {},
   "outputs": [
    {
     "data": {
      "text/html": [
       "<div>\n",
       "<style scoped>\n",
       "    .dataframe tbody tr th:only-of-type {\n",
       "        vertical-align: middle;\n",
       "    }\n",
       "\n",
       "    .dataframe tbody tr th {\n",
       "        vertical-align: top;\n",
       "    }\n",
       "\n",
       "    .dataframe thead th {\n",
       "        text-align: right;\n",
       "    }\n",
       "</style>\n",
       "<table border=\"1\" class=\"dataframe\">\n",
       "  <thead>\n",
       "    <tr style=\"text-align: right;\">\n",
       "      <th></th>\n",
       "      <th>Height(Inches)</th>\n",
       "      <th>Weight(Pounds)</th>\n",
       "    </tr>\n",
       "  </thead>\n",
       "  <tbody>\n",
       "    <tr>\n",
       "      <th>0</th>\n",
       "      <td>65.78331</td>\n",
       "      <td>112.9925</td>\n",
       "    </tr>\n",
       "    <tr>\n",
       "      <th>1</th>\n",
       "      <td>71.51521</td>\n",
       "      <td>136.4873</td>\n",
       "    </tr>\n",
       "    <tr>\n",
       "      <th>2</th>\n",
       "      <td>69.39874</td>\n",
       "      <td>153.0269</td>\n",
       "    </tr>\n",
       "    <tr>\n",
       "      <th>3</th>\n",
       "      <td>68.21660</td>\n",
       "      <td>142.3354</td>\n",
       "    </tr>\n",
       "    <tr>\n",
       "      <th>4</th>\n",
       "      <td>67.78781</td>\n",
       "      <td>144.2971</td>\n",
       "    </tr>\n",
       "    <tr>\n",
       "      <th>...</th>\n",
       "      <td>...</td>\n",
       "      <td>...</td>\n",
       "    </tr>\n",
       "    <tr>\n",
       "      <th>95</th>\n",
       "      <td>70.55703</td>\n",
       "      <td>131.8001</td>\n",
       "    </tr>\n",
       "    <tr>\n",
       "      <th>96</th>\n",
       "      <td>66.28644</td>\n",
       "      <td>120.0285</td>\n",
       "    </tr>\n",
       "    <tr>\n",
       "      <th>97</th>\n",
       "      <td>63.42577</td>\n",
       "      <td>123.0972</td>\n",
       "    </tr>\n",
       "    <tr>\n",
       "      <th>98</th>\n",
       "      <td>66.76711</td>\n",
       "      <td>128.1432</td>\n",
       "    </tr>\n",
       "    <tr>\n",
       "      <th>99</th>\n",
       "      <td>68.88741</td>\n",
       "      <td>115.4759</td>\n",
       "    </tr>\n",
       "  </tbody>\n",
       "</table>\n",
       "<p>100 rows × 2 columns</p>\n",
       "</div>"
      ],
      "text/plain": [
       "    Height(Inches)  Weight(Pounds)\n",
       "0         65.78331        112.9925\n",
       "1         71.51521        136.4873\n",
       "2         69.39874        153.0269\n",
       "3         68.21660        142.3354\n",
       "4         67.78781        144.2971\n",
       "..             ...             ...\n",
       "95        70.55703        131.8001\n",
       "96        66.28644        120.0285\n",
       "97        63.42577        123.0972\n",
       "98        66.76711        128.1432\n",
       "99        68.88741        115.4759\n",
       "\n",
       "[100 rows x 2 columns]"
      ]
     },
     "metadata": {},
     "output_type": "display_data"
    }
   ],
   "source": [
    "df = pd.read_csv(data_base_path)[:100]\n",
    "df.drop(\"Index\", axis=1, inplace=True)\n",
    "\n",
    "display(df)"
   ]
  },
  {
   "cell_type": "markdown",
   "id": "4dbdc5f6",
   "metadata": {},
   "source": [
    "Возьмем 7 значений наименее зашемленных:"
   ]
  },
  {
   "cell_type": "code",
   "execution_count": 193,
   "id": "f1215693",
   "metadata": {},
   "outputs": [
    {
     "data": {
      "text/html": [
       "<div>\n",
       "<style scoped>\n",
       "    .dataframe tbody tr th:only-of-type {\n",
       "        vertical-align: middle;\n",
       "    }\n",
       "\n",
       "    .dataframe tbody tr th {\n",
       "        vertical-align: top;\n",
       "    }\n",
       "\n",
       "    .dataframe thead th {\n",
       "        text-align: right;\n",
       "    }\n",
       "</style>\n",
       "<table border=\"1\" class=\"dataframe\">\n",
       "  <thead>\n",
       "    <tr style=\"text-align: right;\">\n",
       "      <th></th>\n",
       "      <th>Height(Inches)</th>\n",
       "      <th>Weight(Pounds)</th>\n",
       "      <th>bin</th>\n",
       "    </tr>\n",
       "  </thead>\n",
       "  <tbody>\n",
       "    <tr>\n",
       "      <th>0</th>\n",
       "      <td>65.78331</td>\n",
       "      <td>112.9925</td>\n",
       "      <td>(112.93, 120.245]</td>\n",
       "    </tr>\n",
       "    <tr>\n",
       "      <th>1</th>\n",
       "      <td>71.51521</td>\n",
       "      <td>136.4873</td>\n",
       "      <td>(132.832, 136.505]</td>\n",
       "    </tr>\n",
       "    <tr>\n",
       "      <th>2</th>\n",
       "      <td>69.39874</td>\n",
       "      <td>153.0269</td>\n",
       "      <td>(142.519, 155.899]</td>\n",
       "    </tr>\n",
       "    <tr>\n",
       "      <th>3</th>\n",
       "      <td>68.21660</td>\n",
       "      <td>142.3354</td>\n",
       "      <td>(140.44, 142.519]</td>\n",
       "    </tr>\n",
       "    <tr>\n",
       "      <th>4</th>\n",
       "      <td>67.78781</td>\n",
       "      <td>144.2971</td>\n",
       "      <td>(142.519, 155.899]</td>\n",
       "    </tr>\n",
       "    <tr>\n",
       "      <th>...</th>\n",
       "      <td>...</td>\n",
       "      <td>...</td>\n",
       "      <td>...</td>\n",
       "    </tr>\n",
       "    <tr>\n",
       "      <th>95</th>\n",
       "      <td>70.55703</td>\n",
       "      <td>131.8001</td>\n",
       "      <td>(129.408, 132.832]</td>\n",
       "    </tr>\n",
       "    <tr>\n",
       "      <th>96</th>\n",
       "      <td>66.28644</td>\n",
       "      <td>120.0285</td>\n",
       "      <td>(112.93, 120.245]</td>\n",
       "    </tr>\n",
       "    <tr>\n",
       "      <th>97</th>\n",
       "      <td>63.42577</td>\n",
       "      <td>123.0972</td>\n",
       "      <td>(120.245, 123.433]</td>\n",
       "    </tr>\n",
       "    <tr>\n",
       "      <th>98</th>\n",
       "      <td>66.76711</td>\n",
       "      <td>128.1432</td>\n",
       "      <td>(127.825, 129.408]</td>\n",
       "    </tr>\n",
       "    <tr>\n",
       "      <th>99</th>\n",
       "      <td>68.88741</td>\n",
       "      <td>115.4759</td>\n",
       "      <td>(112.93, 120.245]</td>\n",
       "    </tr>\n",
       "  </tbody>\n",
       "</table>\n",
       "<p>100 rows × 3 columns</p>\n",
       "</div>"
      ],
      "text/plain": [
       "    Height(Inches)  Weight(Pounds)                 bin\n",
       "0         65.78331        112.9925   (112.93, 120.245]\n",
       "1         71.51521        136.4873  (132.832, 136.505]\n",
       "2         69.39874        153.0269  (142.519, 155.899]\n",
       "3         68.21660        142.3354   (140.44, 142.519]\n",
       "4         67.78781        144.2971  (142.519, 155.899]\n",
       "..             ...             ...                 ...\n",
       "95        70.55703        131.8001  (129.408, 132.832]\n",
       "96        66.28644        120.0285   (112.93, 120.245]\n",
       "97        63.42577        123.0972  (120.245, 123.433]\n",
       "98        66.76711        128.1432  (127.825, 129.408]\n",
       "99        68.88741        115.4759   (112.93, 120.245]\n",
       "\n",
       "[100 rows x 3 columns]"
      ]
     },
     "metadata": {},
     "output_type": "display_data"
    }
   ],
   "source": [
    "df['bin'] = pd.qcut(df[\"Weight(Pounds)\"], q=10, duplicates='drop')\n",
    "display(df)\n"
   ]
  },
  {
   "cell_type": "code",
   "execution_count": 194,
   "id": "df138cf1",
   "metadata": {},
   "outputs": [
    {
     "name": "stderr",
     "output_type": "stream",
     "text": [
      "/var/folders/8k/67hlyrt568x_jpdg397vh5sw0000gp/T/ipykernel_7675/1971564205.py:1: FutureWarning: The default of observed=False is deprecated and will be changed to True in a future version of pandas. Pass observed=False to retain current behavior or observed=True to adopt the future default and silence this warning.\n",
      "  df_smooth = df.groupby('bin').agg({\n"
     ]
    },
    {
     "data": {
      "text/html": [
       "<div>\n",
       "<style scoped>\n",
       "    .dataframe tbody tr th:only-of-type {\n",
       "        vertical-align: middle;\n",
       "    }\n",
       "\n",
       "    .dataframe tbody tr th {\n",
       "        vertical-align: top;\n",
       "    }\n",
       "\n",
       "    .dataframe thead th {\n",
       "        text-align: right;\n",
       "    }\n",
       "</style>\n",
       "<table border=\"1\" class=\"dataframe\">\n",
       "  <thead>\n",
       "    <tr style=\"text-align: right;\">\n",
       "      <th></th>\n",
       "      <th>Weight(Pounds)</th>\n",
       "      <th>Height(Inches)</th>\n",
       "    </tr>\n",
       "  </thead>\n",
       "  <tbody>\n",
       "    <tr>\n",
       "      <th>0</th>\n",
       "      <td>109.020781</td>\n",
       "      <td>66.923125</td>\n",
       "    </tr>\n",
       "    <tr>\n",
       "      <th>1</th>\n",
       "      <td>120.147800</td>\n",
       "      <td>67.112321</td>\n",
       "    </tr>\n",
       "    <tr>\n",
       "      <th>2</th>\n",
       "      <td>125.727671</td>\n",
       "      <td>67.435869</td>\n",
       "    </tr>\n",
       "    <tr>\n",
       "      <th>3</th>\n",
       "      <td>129.666171</td>\n",
       "      <td>67.576294</td>\n",
       "    </tr>\n",
       "    <tr>\n",
       "      <th>4</th>\n",
       "      <td>134.355843</td>\n",
       "      <td>69.363469</td>\n",
       "    </tr>\n",
       "    <tr>\n",
       "      <th>5</th>\n",
       "      <td>139.773343</td>\n",
       "      <td>69.636004</td>\n",
       "    </tr>\n",
       "    <tr>\n",
       "      <th>6</th>\n",
       "      <td>146.013893</td>\n",
       "      <td>68.968226</td>\n",
       "    </tr>\n",
       "  </tbody>\n",
       "</table>\n",
       "</div>"
      ],
      "text/plain": [
       "   Weight(Pounds)  Height(Inches)\n",
       "0      109.020781       66.923125\n",
       "1      120.147800       67.112321\n",
       "2      125.727671       67.435869\n",
       "3      129.666171       67.576294\n",
       "4      134.355843       69.363469\n",
       "5      139.773343       69.636004\n",
       "6      146.013893       68.968226"
      ]
     },
     "metadata": {},
     "output_type": "display_data"
    }
   ],
   "source": [
    "df_smooth = df.groupby('bin').agg({\n",
    "    \"Weight(Pounds)\": \"mean\",\n",
    "    \"Height(Inches)\": \"mean\"\n",
    "}).reset_index(drop=True)\n",
    "\n",
    "display(smooth_df)"
   ]
  },
  {
   "cell_type": "code",
   "execution_count": 195,
   "id": "2714f826",
   "metadata": {},
   "outputs": [],
   "source": [
    "X_smooth = df_smooth[\"Height(Inches)\"]\n",
    "Y_smooth = df_smooth[\"Weight(Pounds)\"]\n",
    "\n",
    "# mean_x = np.mean(X)\n",
    "# mean_y = np.mean(Y)\n",
    "\n",
    "# numerator = np.sum((X - mean_x) * (Y - mean_y))\n",
    "# denominator = np.sum((X - mean_x) ** 2)\n",
    "\n",
    "# b1 = numerator / denominator\n",
    "# b0 = mean_y - (b1 * mean_x)\n",
    "\n"
   ]
  },
  {
   "cell_type": "code",
   "execution_count": 196,
   "id": "f910f597",
   "metadata": {},
   "outputs": [],
   "source": [
    "# x_min = np.min(X)\n",
    "# x_max = np.max(X)\n",
    "# x_line = np.linspace(x_min, x_max, 100) # 100 точек для гладкой линии\n",
    "# y_line = b0 + b1 * x_line"
   ]
  },
  {
   "cell_type": "markdown",
   "id": "51782fbc",
   "metadata": {},
   "source": [
    "Гладкая функция:"
   ]
  },
  {
   "cell_type": "code",
   "execution_count": 197,
   "id": "82cd433d",
   "metadata": {},
   "outputs": [
    {
     "data": {
      "image/png": "[encoded data removed]",
      "text/plain": [
       "<Figure size 1500x800 with 1 Axes>"
      ]
     },
     "metadata": {},
     "output_type": "display_data"
    }
   ],
   "source": [
    "fig, ax = plt.subplots(figsize=(15, 8))\n",
    "ax.scatter(x=X_smooth, y=Y_smooth, alpha=0.4, color=\"#c6e4e7\")\n",
    "\n",
    "ax.set_xlabel(\"рост\")\n",
    "ax.set_ylabel(\"вес\")\n",
    "ax.set_title(\"Рост и вес (inch, pounds)\")\n",
    "plt.show()"
   ]
  },
  {
   "cell_type": "markdown",
   "id": "b0cdf981",
   "metadata": {},
   "source": [
    "Нахождение Wo* и W1*:"
   ]
  },
  {
   "cell_type": "code",
   "execution_count": 198,
   "id": "f700d548",
   "metadata": {},
   "outputs": [
    {
     "name": "stdout",
     "output_type": "stream",
     "text": [
      "Wo = [-543.36565717]     W1 = [9.87033087]\n"
     ]
    }
   ],
   "source": [
    "def get_coef(x, y):\n",
    "    size = len(x)\n",
    "    A = np.empty((2, 2))\n",
    "    A[[0], [0]] = sum((x[i])**2 for i in range(0,size))\n",
    "    A[[0], [1]] = sum(x)\n",
    "    A[[1], [0]] = sum(x)\n",
    "    A[[1], [1]] = size\n",
    "    \n",
    "    A = np.linalg.inv(A)    # обратная матрица\n",
    " \n",
    "    C = np.empty((2, 1))\n",
    "    C[0] = sum((x[i]*y[i]) for i in range(0,size))\n",
    "    C[1] = sum((y[i]) for i in range(0,size))\n",
    "    \n",
    "    # умножаем матрицу на вектор\n",
    "    ww = np.dot(A, C)\n",
    "    return ww[1], ww[0]\n",
    "\n",
    "w0, w1 = get_coef(X_smooth, Y_smooth)\n",
    "print(f\"Wo = {w0_1}     W1 = {w1_1}\")"
   ]
  },
  {
   "cell_type": "markdown",
   "id": "2ee9a4a1",
   "metadata": {},
   "source": [
    "y_approx = W0 + W1*Xi"
   ]
  },
  {
   "cell_type": "code",
   "execution_count": 199,
   "id": "717d175a",
   "metadata": {},
   "outputs": [
    {
     "name": "stdout",
     "output_type": "stream",
     "text": [
      "0    114.385671\n",
      "1    123.066163\n",
      "2    118.477466\n",
      "3    121.744861\n",
      "4    121.600715\n",
      "5    130.089979\n",
      "6    142.206027\n",
      "7    143.908541\n",
      "8    136.976588\n",
      "9    139.635161\n",
      "Name: Height(Inches), dtype: float64\n"
     ]
    }
   ],
   "source": [
    "y_approx_smooth = w0 + w1*X_smooth\n",
    "print(y_approx_smooth)"
   ]
  },
  {
   "cell_type": "markdown",
   "id": "28eb7ca1",
   "metadata": {},
   "source": [
    "## МНК без шума"
   ]
  },
  {
   "cell_type": "code",
   "execution_count": 200,
   "id": "21712d6d",
   "metadata": {},
   "outputs": [
    {
     "data": {
      "image/png": "[encoded data removed]",
      "text/plain": [
       "<Figure size 1500x800 with 1 Axes>"
      ]
     },
     "metadata": {},
     "output_type": "display_data"
    }
   ],
   "source": [
    "fig, ax = plt.subplots(figsize=(15, 8))\n",
    "ax.scatter(x=X_smooth, y=Y_smooth, alpha=0.4, color=\"#c6e4e7\")\n",
    "\n",
    "ax.plot(X_smooth, y_approx_smooth, color='red', label=f'Линия регрессии')\n",
    "\n",
    "ax.set_xlabel(\"рост\")\n",
    "ax.set_ylabel(\"вес\")\n",
    "ax.set_title(\"Рост и вес (inch, pounds)\")\n",
    "ax.legend()\n",
    "plt.show()"
   ]
  }
 ],
 "metadata": {
  "kernelspec": {
   "display_name": "base",
   "language": "python",
   "name": "python3"
  },
  "language_info": {
   "codemirror_mode": {
    "name": "ipython",
    "version": 3
   },
   "file_extension": ".py",
   "mimetype": "text/x-python",
   "name": "python",
   "nbconvert_exporter": "python",
   "pygments_lexer": "ipython3",
   "version": "3.12.7"
  }
 },
 "nbformat": 4,
 "nbformat_minor": 5
}
